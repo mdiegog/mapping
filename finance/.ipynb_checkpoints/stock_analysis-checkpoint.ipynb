{
 "cells": [
  {
   "cell_type": "code",
   "execution_count": 9,
   "metadata": {},
   "outputs": [
    {
     "data": {
      "text/html": [
       "<div>\n",
       "<style scoped>\n",
       "    .dataframe tbody tr th:only-of-type {\n",
       "        vertical-align: middle;\n",
       "    }\n",
       "\n",
       "    .dataframe tbody tr th {\n",
       "        vertical-align: top;\n",
       "    }\n",
       "\n",
       "    .dataframe thead th {\n",
       "        text-align: right;\n",
       "    }\n",
       "</style>\n",
       "<table border=\"1\" class=\"dataframe\">\n",
       "  <thead>\n",
       "    <tr style=\"text-align: right;\">\n",
       "      <th></th>\n",
       "      <th>High</th>\n",
       "      <th>Low</th>\n",
       "      <th>Open</th>\n",
       "      <th>Close</th>\n",
       "      <th>Volume</th>\n",
       "      <th>Adj Close</th>\n",
       "    </tr>\n",
       "    <tr>\n",
       "      <th>Date</th>\n",
       "      <th></th>\n",
       "      <th></th>\n",
       "      <th></th>\n",
       "      <th></th>\n",
       "      <th></th>\n",
       "      <th></th>\n",
       "    </tr>\n",
       "  </thead>\n",
       "  <tbody>\n",
       "    <tr>\n",
       "      <th>2018-10-01</th>\n",
       "      <td>229.419998</td>\n",
       "      <td>226.350006</td>\n",
       "      <td>227.949997</td>\n",
       "      <td>227.259995</td>\n",
       "      <td>23600800</td>\n",
       "      <td>227.259995</td>\n",
       "    </tr>\n",
       "    <tr>\n",
       "      <th>2018-10-02</th>\n",
       "      <td>230.000000</td>\n",
       "      <td>226.630005</td>\n",
       "      <td>227.250000</td>\n",
       "      <td>229.279999</td>\n",
       "      <td>24788200</td>\n",
       "      <td>229.279999</td>\n",
       "    </tr>\n",
       "    <tr>\n",
       "      <th>2018-10-03</th>\n",
       "      <td>233.470001</td>\n",
       "      <td>229.779999</td>\n",
       "      <td>230.050003</td>\n",
       "      <td>232.070007</td>\n",
       "      <td>28654800</td>\n",
       "      <td>232.070007</td>\n",
       "    </tr>\n",
       "    <tr>\n",
       "      <th>2018-10-04</th>\n",
       "      <td>232.350006</td>\n",
       "      <td>226.729996</td>\n",
       "      <td>230.779999</td>\n",
       "      <td>227.990005</td>\n",
       "      <td>32042000</td>\n",
       "      <td>227.990005</td>\n",
       "    </tr>\n",
       "    <tr>\n",
       "      <th>2018-10-05</th>\n",
       "      <td>228.410004</td>\n",
       "      <td>220.580002</td>\n",
       "      <td>227.960007</td>\n",
       "      <td>224.289993</td>\n",
       "      <td>33580500</td>\n",
       "      <td>224.289993</td>\n",
       "    </tr>\n",
       "    <tr>\n",
       "      <th>2018-10-08</th>\n",
       "      <td>224.800003</td>\n",
       "      <td>220.199997</td>\n",
       "      <td>222.210007</td>\n",
       "      <td>223.770004</td>\n",
       "      <td>29663900</td>\n",
       "      <td>223.770004</td>\n",
       "    </tr>\n",
       "    <tr>\n",
       "      <th>2018-10-09</th>\n",
       "      <td>227.270004</td>\n",
       "      <td>222.250000</td>\n",
       "      <td>223.639999</td>\n",
       "      <td>226.869995</td>\n",
       "      <td>26891000</td>\n",
       "      <td>226.869995</td>\n",
       "    </tr>\n",
       "    <tr>\n",
       "      <th>2018-10-10</th>\n",
       "      <td>226.350006</td>\n",
       "      <td>216.050003</td>\n",
       "      <td>225.460007</td>\n",
       "      <td>216.360001</td>\n",
       "      <td>41990600</td>\n",
       "      <td>216.360001</td>\n",
       "    </tr>\n",
       "  </tbody>\n",
       "</table>\n",
       "</div>"
      ],
      "text/plain": [
       "                  High         Low        Open       Close    Volume  \\\n",
       "Date                                                                   \n",
       "2018-10-01  229.419998  226.350006  227.949997  227.259995  23600800   \n",
       "2018-10-02  230.000000  226.630005  227.250000  229.279999  24788200   \n",
       "2018-10-03  233.470001  229.779999  230.050003  232.070007  28654800   \n",
       "2018-10-04  232.350006  226.729996  230.779999  227.990005  32042000   \n",
       "2018-10-05  228.410004  220.580002  227.960007  224.289993  33580500   \n",
       "2018-10-08  224.800003  220.199997  222.210007  223.770004  29663900   \n",
       "2018-10-09  227.270004  222.250000  223.639999  226.869995  26891000   \n",
       "2018-10-10  226.350006  216.050003  225.460007  216.360001  41990600   \n",
       "\n",
       "             Adj Close  \n",
       "Date                    \n",
       "2018-10-01  227.259995  \n",
       "2018-10-02  229.279999  \n",
       "2018-10-03  232.070007  \n",
       "2018-10-04  227.990005  \n",
       "2018-10-05  224.289993  \n",
       "2018-10-08  223.770004  \n",
       "2018-10-09  226.869995  \n",
       "2018-10-10  216.360001  "
      ]
     },
     "execution_count": 9,
     "metadata": {},
     "output_type": "execute_result"
    }
   ],
   "source": [
    "from pandas_datareader import data\n",
    "import datetime\n",
    "from bokeh.plotting import figure, show, output_file\n",
    "\n",
    "start=datetime.datetime(2018,10,1)\n",
    "end=datetime.datetime(2018,10,17)\n",
    "\n",
    "df=data.DataReader(name=\"AAPL\",data_source=\"yahoo\",start=start,end=end)\n",
    "df"
   ]
  },
  {
   "cell_type": "code",
   "execution_count": 11,
   "metadata": {},
   "outputs": [
    {
     "data": {
      "text/plain": [
       "DatetimeIndex(['2018-10-02', '2018-10-03', '2018-10-08', '2018-10-09'], dtype='datetime64[ns]', name='Date', freq=None)"
      ]
     },
     "execution_count": 11,
     "metadata": {},
     "output_type": "execute_result"
    }
   ],
   "source": [
    "df.index[df.Close > df.Open]"
   ]
  },
  {
   "cell_type": "code",
   "execution_count": 14,
   "metadata": {},
   "outputs": [
    {
     "name": "stderr",
     "output_type": "stream",
     "text": [
      "d:\\python\\python36-32\\lib\\site-packages\\bokeh\\models\\sources.py:110: BokehUserWarning: ColumnDataSource's columns must be of the same length. Current lengths: ('x', 4), ('y', 8)\n",
      "  \"Current lengths: %s\" % \", \".join(sorted(str((k, len(v))) for k, v in data.items())), BokehUserWarning))\n",
      "d:\\python\\python36-32\\lib\\site-packages\\bokeh\\models\\sources.py:110: BokehUserWarning: ColumnDataSource's columns must be of the same length. Current lengths: ('height', 8), ('x', 4), ('y', 8)\n",
      "  \"Current lengths: %s\" % \", \".join(sorted(str((k, len(v))) for k, v in data.items())), BokehUserWarning))\n",
      "d:\\python\\python36-32\\lib\\site-packages\\bokeh\\models\\sources.py:110: BokehUserWarning: ColumnDataSource's columns must be of the same length. Current lengths: ('x', 4), ('y', 8)\n",
      "  \"Current lengths: %s\" % \", \".join(sorted(str((k, len(v))) for k, v in data.items())), BokehUserWarning))\n",
      "d:\\python\\python36-32\\lib\\site-packages\\bokeh\\models\\sources.py:110: BokehUserWarning: ColumnDataSource's columns must be of the same length. Current lengths: ('height', 8), ('x', 4), ('y', 8)\n",
      "  \"Current lengths: %s\" % \", \".join(sorted(str((k, len(v))) for k, v in data.items())), BokehUserWarning))\n"
     ]
    }
   ],
   "source": [
    "p=figure(x_axis_type='datetime', width=1000, height=300)\n",
    "p.title.text=\"Candlestick Chart\"\n",
    "\n",
    "hours_12=12*60*60*1000\n",
    "\n",
    "p.rect(df.index[df.Close > df.Open],(df.Open+df.Close)/2,\n",
    "       hours_12, abs(df.Open-df.Close),fill_color='green',line_color='black')\n",
    "\n",
    "p.rect(df.index[df.Close < df.Open],(df.Open+df.Close)/2,\n",
    "       hours_12, abs(df.Open-df.Close),fill_color='red',line_color='black')\n",
    "\n",
    "output_file(\"CS.html\")\n",
    "show(p)"
   ]
  }
 ],
 "metadata": {
  "kernelspec": {
   "display_name": "Python 3",
   "language": "python",
   "name": "python3"
  },
  "language_info": {
   "codemirror_mode": {
    "name": "ipython",
    "version": 3
   },
   "file_extension": ".py",
   "mimetype": "text/x-python",
   "name": "python",
   "nbconvert_exporter": "python",
   "pygments_lexer": "ipython3",
   "version": "3.6.6"
  }
 },
 "nbformat": 4,
 "nbformat_minor": 2
}
